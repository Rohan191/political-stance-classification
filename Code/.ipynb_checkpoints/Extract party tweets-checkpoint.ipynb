{
 "cells": [
  {
   "cell_type": "code",
   "execution_count": 1,
   "metadata": {},
   "outputs": [],
   "source": [
    "import numpy as np\n",
    "import pandas as pd\n",
    "import tweepy\n",
    "import os\n",
    "from tweepy import OAuthHandler\n",
    "import csv\n",
    "import json"
   ]
  },
  {
   "cell_type": "code",
   "execution_count": 2,
   "metadata": {},
   "outputs": [],
   "source": [
    "consumer_key = 'JBbZgOVsUDUbIyI3LLpS39b5A'\n",
    "consumer_secret = '6jZ4JViRsK302RTsc6KDfBccMS4mI4fGjHzScxOCJA7PvWFvIo'\n",
    "access_token = '568966944-T4wQcwC2Lm8fh2Vcgq02vY371RRlqDYqVOxx5sgE'\n",
    "access_secret = '6K7PqTYXWNx0OJoHpNuFwbEOfuXiUoZEkAUCGsSzRyvhs'\n",
    " \n",
    "auth = OAuthHandler(consumer_key, consumer_secret)\n",
    "auth.set_access_token(access_token, access_secret)\n",
    " \n",
    "api = tweepy.API(auth)"
   ]
  },
  {
   "cell_type": "code",
   "execution_count": null,
   "metadata": {},
   "outputs": [],
   "source": [
    "os.chdir('../Dataset')\n",
    "parties_df = pd.read_csv('partyHandles.csv')\n",
    "Party Handles = parties['Party Handles'].values\n",
    "politicians = [p.encode('ascii', 'ignore') for p in politicians]\n",
    "politicians = [p.strip() for p in politicians]\n",
    "print(politicians)"
   ]
  }
 ],
 "metadata": {
  "kernelspec": {
   "display_name": "Python 3",
   "language": "python",
   "name": "python3"
  },
  "language_info": {
   "codemirror_mode": {
    "name": "ipython",
    "version": 3
   },
   "file_extension": ".py",
   "mimetype": "text/x-python",
   "name": "python",
   "nbconvert_exporter": "python",
   "pygments_lexer": "ipython3",
   "version": "3.6.4"
  }
 },
 "nbformat": 4,
 "nbformat_minor": 2
}
